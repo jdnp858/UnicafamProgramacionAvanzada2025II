{
  "nbformat": 4,
  "nbformat_minor": 0,
  "metadata": {
    "colab": {
      "provenance": [],
      "toc_visible": true,
      "include_colab_link": true
    },
    "kernelspec": {
      "name": "python3",
      "display_name": "Python 3"
    },
    "language_info": {
      "name": "python"
    }
  },
  "cells": [
    {
      "cell_type": "markdown",
      "metadata": {
        "id": "view-in-github",
        "colab_type": "text"
      },
      "source": [
        "<a href=\"https://colab.research.google.com/github/jdnp858/UnicafamProgramacionAvanzada2025II/blob/main/Clase1.ipynb\" target=\"_parent\"><img src=\"https://colab.research.google.com/assets/colab-badge.svg\" alt=\"Open In Colab\"/></a>"
      ]
    },
    {
      "cell_type": "markdown",
      "source": [
        "**Introducción a Python**\n",
        "\n",
        "Programación Avanzada\n",
        "\n",
        "Ingenieria Industrial\n",
        "\n",
        "Facultad de Ingenieria\n",
        "\n",
        "Unicafam\n",
        "\n",
        "Docente: Nicolas Mojica\n",
        "\n",
        "Estudiante: David Nieto Pirajan\n",
        "\n",
        "\n",
        "\n",
        "---\n",
        "\n"
      ],
      "metadata": {
        "id": "jdlO8rnszGYQ"
      }
    },
    {
      "cell_type": "markdown",
      "source": [
        "## 1.Comentarios de codigo\n",
        "\n"
      ],
      "metadata": {
        "id": "u16vKzCQ0QBF"
      }
    },
    {
      "cell_type": "code",
      "execution_count": null,
      "metadata": {
        "colab": {
          "base_uri": "https://localhost:8080/"
        },
        "id": "3r8TZDRmypdz",
        "outputId": "385d75ad-da0d-442d-c02e-39ef8b44ee9e"
      },
      "outputs": [
        {
          "output_type": "stream",
          "name": "stdout",
          "text": [
            "Hola mundo\n"
          ]
        }
      ],
      "source": [
        "# Este es un comentario de una sola linea\n",
        "print(\"Hola mundo\")"
      ]
    },
    {
      "cell_type": "code",
      "source": [
        "\"\"\"Este comentario\n",
        "es para\n",
        "varias lineas\"\"\"\n",
        "print(\"Hola Mundo\")"
      ],
      "metadata": {
        "colab": {
          "base_uri": "https://localhost:8080/"
        },
        "id": "SbL3zz271TZx",
        "outputId": "f0e069b7-d9a2-46a6-bd15-62f8c2c8a0f5"
      },
      "execution_count": null,
      "outputs": [
        {
          "output_type": "stream",
          "name": "stdout",
          "text": [
            "Hola Mundo\n"
          ]
        }
      ]
    },
    {
      "cell_type": "markdown",
      "source": [
        "## **2. Variables**"
      ],
      "metadata": {
        "id": "6dUA4DVN2fvV"
      }
    },
    {
      "cell_type": "code",
      "source": [
        "# Reglas para nombrar una variable\n",
        "# 1. No caracteres especiales - No espacios\n",
        "# 2. Las variables son sencibles a las MAYUSCULAS o minusculas\n",
        "# 3. Las variables se transformano cambian a traves del codigo\n",
        "var=\"Hola mundo\"\n",
        "print(var)"
      ],
      "metadata": {
        "colab": {
          "base_uri": "https://localhost:8080/"
        },
        "id": "MUL6M_c22fGT",
        "outputId": "ed859186-7e33-4323-a210-0ff267d3074e"
      },
      "execution_count": null,
      "outputs": [
        {
          "output_type": "stream",
          "name": "stdout",
          "text": [
            "Hola mundo\n"
          ]
        }
      ]
    },
    {
      "cell_type": "markdown",
      "source": [
        "## **3. Tipos de datos**"
      ],
      "metadata": {
        "id": "SML91X034qbR"
      }
    },
    {
      "cell_type": "code",
      "source": [
        "# Numericos\n",
        "# Enteros - Integer\n",
        "entero=42\n",
        "entero_literal=int(42)\n",
        "type(entero)\n",
        "type(entero_literal)"
      ],
      "metadata": {
        "colab": {
          "base_uri": "https://localhost:8080/"
        },
        "id": "cPX63tGi4ARw",
        "outputId": "f62964a0-7cea-428f-c321-c5d1bd0971b1"
      },
      "execution_count": null,
      "outputs": [
        {
          "output_type": "execute_result",
          "data": {
            "text/plain": [
              "int"
            ]
          },
          "metadata": {},
          "execution_count": 6
        }
      ]
    },
    {
      "cell_type": "code",
      "source": [
        "# Decimales - float\n",
        "decimal=3.14\n",
        "decimal_literal=float(3.14)\n",
        "type(decimal)"
      ],
      "metadata": {
        "colab": {
          "base_uri": "https://localhost:8080/"
        },
        "id": "GiHije2q59gK",
        "outputId": "f83d0800-106c-4f01-f33b-653ad658222a"
      },
      "execution_count": null,
      "outputs": [
        {
          "output_type": "execute_result",
          "data": {
            "text/plain": [
              "float"
            ]
          },
          "metadata": {},
          "execution_count": 9
        }
      ]
    },
    {
      "cell_type": "code",
      "source": [
        "# Conversión de tipos de datos\n",
        "entero_convertido=float(entero)\n",
        "print(entero_convertido)\n",
        "type(entero_convertido)"
      ],
      "metadata": {
        "colab": {
          "base_uri": "https://localhost:8080/"
        },
        "id": "MtypxEyZ7Ou2",
        "outputId": "4464b2d2-75c4-435b-da43-9271d6c0dd70"
      },
      "execution_count": null,
      "outputs": [
        {
          "output_type": "stream",
          "name": "stdout",
          "text": [
            "42.0\n"
          ]
        },
        {
          "output_type": "execute_result",
          "data": {
            "text/plain": [
              "float"
            ]
          },
          "metadata": {},
          "execution_count": 10
        }
      ]
    },
    {
      "cell_type": "code",
      "source": [
        "# Valores de cadena de datos o de texto - string\n",
        "cadena_simple=\"Hola, mundo\"\n",
        "cadena_multi=\"\"\"cadena de\n",
        "varias\n",
        "lineas\"\"\""
      ],
      "metadata": {
        "id": "LPkbp3857luZ"
      },
      "execution_count": null,
      "outputs": []
    },
    {
      "cell_type": "markdown",
      "source": [
        "##  **4. Operadores aritmeticos**"
      ],
      "metadata": {
        "id": "lRmMa24V9YDo"
      }
    },
    {
      "cell_type": "code",
      "source": [
        "a=10\n",
        "b=5\n",
        "# Suma\n",
        "print(a+b)\n",
        "# Resta\n",
        "print(a-b)\n",
        "# Multiplicación\n",
        "print(a*b)\n",
        "# División\n",
        "print(a/b)\n",
        "# División entera\n",
        "print(a//b)         # // realiza división entera\n",
        "# Modulo\n",
        "print(a%b)\n",
        "# Redondeo\n",
        "print(round(3/2,2))"
      ],
      "metadata": {
        "colab": {
          "base_uri": "https://localhost:8080/"
        },
        "id": "yszC27oj89Qh",
        "outputId": "702dd6c0-d45f-496d-962e-42cb9472039e"
      },
      "execution_count": null,
      "outputs": [
        {
          "output_type": "stream",
          "name": "stdout",
          "text": [
            "15\n",
            "5\n",
            "50\n",
            "2.0\n",
            "2\n",
            "0\n",
            "1.5\n"
          ]
        }
      ]
    },
    {
      "cell_type": "code",
      "source": [
        "# Asignación compuesta de variables\n",
        "c=10\n",
        "c+=5\n",
        "print(c)"
      ],
      "metadata": {
        "id": "Je0tSavv_E40",
        "colab": {
          "base_uri": "https://localhost:8080/"
        },
        "outputId": "d7b10f39-08aa-46a7-adf1-e4e3667da41d"
      },
      "execution_count": null,
      "outputs": [
        {
          "output_type": "stream",
          "name": "stdout",
          "text": [
            "15\n"
          ]
        }
      ]
    },
    {
      "cell_type": "markdown",
      "source": [
        "## **5. Textos**"
      ],
      "metadata": {
        "id": "KLRqwgfvxVBM"
      }
    },
    {
      "cell_type": "code",
      "source": [
        "# Cadenas simple\n",
        "cadena_simple1=' hola mundo'\n",
        "# Cadena multilinea\n",
        "cadena_multilinea='''Este es\n",
        "un comentario\n",
        "de varias lineas'''\n"
      ],
      "metadata": {
        "id": "gqD05U0cxfgQ"
      },
      "execution_count": null,
      "outputs": []
    },
    {
      "cell_type": "code",
      "source": [
        "# Indexación\n",
        "primer_caracter=cadena_simple1[0]\n",
        "print(primer_caracter)"
      ],
      "metadata": {
        "colab": {
          "base_uri": "https://localhost:8080/"
        },
        "id": "l4NI3J6tyLx9",
        "outputId": "1814007a-f746-491a-e080-e912854747f4"
      },
      "execution_count": null,
      "outputs": [
        {
          "output_type": "stream",
          "name": "stdout",
          "text": [
            " \n"
          ]
        }
      ]
    },
    {
      "cell_type": "code",
      "source": [
        "# Rebanado - Slicing\n",
        "subcadena=cadena_simple1[5:10]\n",
        "print(subcadena)"
      ],
      "metadata": {
        "colab": {
          "base_uri": "https://localhost:8080/"
        },
        "id": "GYIuql4uzP2z",
        "outputId": "f2e466aa-fee2-4803-ecc5-3bb9db3fed65"
      },
      "execution_count": null,
      "outputs": [
        {
          "output_type": "stream",
          "name": "stdout",
          "text": [
            " mund\n"
          ]
        }
      ]
    },
    {
      "cell_type": "code",
      "source": [
        "# Metodos de cadena\n",
        "print(cadena_simple1.upper())\n",
        "print(cadena_simple1.lower())\n",
        "print(cadena_simple1.strip())"
      ],
      "metadata": {
        "colab": {
          "base_uri": "https://localhost:8080/"
        },
        "id": "1fRHpeHf0O75",
        "outputId": "58e7beb4-058b-41d5-8685-e8ba50992efe"
      },
      "execution_count": null,
      "outputs": [
        {
          "output_type": "stream",
          "name": "stdout",
          "text": [
            " HOLA MUNDO\n",
            " hola mundo\n",
            "hola mundo\n"
          ]
        }
      ]
    },
    {
      "cell_type": "code",
      "source": [
        "# Reemplazar elementos en una cadena de caracteres\n",
        "d='python es genial'\n",
        "print(d.replace('genial','increible'))"
      ],
      "metadata": {
        "colab": {
          "base_uri": "https://localhost:8080/"
        },
        "id": "BavMIa99278x",
        "outputId": "7157933a-3d54-4b86-f45e-6023509158b3"
      },
      "execution_count": null,
      "outputs": [
        {
          "output_type": "stream",
          "name": "stdout",
          "text": [
            "python es increible\n"
          ]
        }
      ]
    },
    {
      "cell_type": "code",
      "source": [
        "# Desarrollo de un programa que identifique si un numero es par o impar\n",
        "# solicitar numero\n",
        "numero=int(input('ingrese numero'))\n",
        "if (numero%2)==0:\n",
        "  print('es par')\n",
        "else:\n",
        "  print('es impar')"
      ],
      "metadata": {
        "colab": {
          "base_uri": "https://localhost:8080/"
        },
        "id": "8jx3Xvbu4pGg",
        "outputId": "5858df8d-d71c-462f-d326-400f27ed0b9c"
      },
      "execution_count": null,
      "outputs": [
        {
          "output_type": "stream",
          "name": "stdout",
          "text": [
            "ingrese numero4\n",
            "es par\n"
          ]
        }
      ]
    },
    {
      "cell_type": "code",
      "source": [],
      "metadata": {
        "id": "5J2hi4xMBDQ0"
      },
      "execution_count": null,
      "outputs": []
    }
  ]
}