{
  "nbformat": 4,
  "nbformat_minor": 0,
  "metadata": {
    "colab": {
      "provenance": [],
      "authorship_tag": "ABX9TyNKtuiYTbeU2MaIGS6rge2r",
      "include_colab_link": true
    },
    "kernelspec": {
      "name": "python3",
      "display_name": "Python 3"
    },
    "language_info": {
      "name": "python"
    }
  },
  "cells": [
    {
      "cell_type": "markdown",
      "metadata": {
        "id": "view-in-github",
        "colab_type": "text"
      },
      "source": [
        "<a href=\"https://colab.research.google.com/github/jdnp858/UnicafamProgramacionAvanzada2025II/blob/main/Clase3EstructuraDeDatos.ipynb\" target=\"_parent\"><img src=\"https://colab.research.google.com/assets/colab-badge.svg\" alt=\"Open In Colab\"/></a>"
      ]
    },
    {
      "cell_type": "markdown",
      "source": [
        "**Estructuras de datos**\n",
        "\n",
        "Programación Avanzada\n",
        "\n",
        "Ingeniría Industrial\n",
        "\n",
        "Facultad de Ingenieria\n",
        "\n",
        "Unicafam\n",
        "\n",
        "Docente: Nicolas Mojica\n",
        "\n",
        "Estudiante: David Nieto Pirajan\n",
        "\n",
        "---\n",
        "\n",
        "\n"
      ],
      "metadata": {
        "id": "QUh5fFtg7-_o"
      }
    },
    {
      "cell_type": "markdown",
      "source": [
        "##Listas"
      ],
      "metadata": {
        "id": "bfYKYLFJ7DsO"
      }
    },
    {
      "cell_type": "code",
      "execution_count": null,
      "metadata": {
        "id": "v6qOpRsx5HRg"
      },
      "outputs": [],
      "source": [
        "#crear lista vacia\n",
        "mi_lista=[]\n",
        "\n",
        "#crear una lista con elementos\n",
        "mi_lista=[1,2,3,\"vaca\",5.0]"
      ]
    },
    {
      "cell_type": "code",
      "source": [
        "mi_lista=[10, 20, 30, 40, 50]\n",
        "#acceder al 30\n",
        "print(mi_lista[2])\n",
        "\n",
        "#acceder al 10\n",
        "print(mi_lista[0])"
      ],
      "metadata": {
        "colab": {
          "base_uri": "https://localhost:8080/"
        },
        "id": "3zRv9OKD8b4B",
        "outputId": "2d18371e-5a18-4168-d414-a7889fb1eac5"
      },
      "execution_count": null,
      "outputs": [
        {
          "output_type": "stream",
          "name": "stdout",
          "text": [
            "30\n",
            "10\n"
          ]
        }
      ]
    },
    {
      "cell_type": "code",
      "source": [
        "#conocer la posicion del elemento en la lista a partir de su valor\n",
        "print(mi_lista.index(50))"
      ],
      "metadata": {
        "colab": {
          "base_uri": "https://localhost:8080/"
        },
        "id": "gNOfstoq9Rfc",
        "outputId": "8f336dc9-7d94-45fb-c734-76aa8f448aa8"
      },
      "execution_count": null,
      "outputs": [
        {
          "output_type": "stream",
          "name": "stdout",
          "text": [
            "4\n"
          ]
        }
      ]
    },
    {
      "cell_type": "code",
      "source": [
        "#diseñe un programa de actualizacion de datos que le permita al usuario actualizar su nombre siempre y cuando exista.\n",
        "mi_lista1=[\"isabel\",\"vincent\",\"manuel\",\"jhon\"]\n",
        "\n",
        "#mensaje de bienvenida\n",
        "print(\"--------PROGRAMA ACTUALIZACION DE DATOS-------\")\n",
        "\n",
        "#preguntar al usuario que nombre quiere buscar\n",
        "nombre_buscar=input(\"ingrese nombre a buscar: \")\n",
        "\n",
        "#definicion de la condicional\n",
        "#si el nombre del usuario existe en la lista\n",
        "if nombre_buscar in mi_lista1:\n",
        "\n",
        "  #encuentra la posisocion o el indice del nombre que ingreso el usuario dentro de la lista\n",
        "  pos=mi_lista1.index(nombre_buscar)\n",
        "\n",
        "  #actualizo la posicion dentro de la lista con el nombre que me indique el usuario\n",
        "  mi_lista1[pos]=input(\"ingrese nuevo nombre: \")\n",
        "\n",
        "  #imprimo la lista actualizada\n",
        "  print(mi_lista1)\n",
        "else:\n",
        "\n",
        "  #en caso que el nombre que ingreso el usuario no exista le muestro el siguiente mensaje\n",
        "  print(\"su nombre no esta en la lista\")"
      ],
      "metadata": {
        "colab": {
          "base_uri": "https://localhost:8080/"
        },
        "collapsed": true,
        "id": "laF5ADBI-BgZ",
        "outputId": "ca46733a-6164-44f4-889d-afb15ad2f21f"
      },
      "execution_count": null,
      "outputs": [
        {
          "output_type": "stream",
          "name": "stdout",
          "text": [
            "--------PROGRAMA ACTUALIZACION DE DATOS-------\n",
            "ingrese nombre a buscar: manuel\n",
            "ingrese nuevo nombre: Manuel\n",
            "['isabel', 'vincent', 'Manuel', 'jhon']\n"
          ]
        }
      ]
    },
    {
      "cell_type": "code",
      "source": [
        "# metodos en la lista\n",
        "# actualizacion de datos en la lista\n",
        "mi_lista = [10, 20, 30, 40, 50]\n",
        "# cambiar elemnto de una lista\n",
        "# llamar a la lista, determinar la posicion del elemento a cambiar y establecer el nuevo valor\n",
        "\n",
        "# cambiar el 40 por 1.5\n",
        "mi_lista[3]=1.5\n",
        "print(mi_lista)"
      ],
      "metadata": {
        "colab": {
          "base_uri": "https://localhost:8080/"
        },
        "id": "5A3K6HLlBM_l",
        "outputId": "51453601-738e-4ca7-e550-b85a7d329dd5"
      },
      "execution_count": null,
      "outputs": [
        {
          "output_type": "stream",
          "name": "stdout",
          "text": [
            "[10, 20, 30, 1.5, 50]\n"
          ]
        }
      ]
    },
    {
      "cell_type": "code",
      "source": [
        "# cambiar el 50 por \"voy a pasar el parcial con 5\"\n",
        "mi_lista[4]=\"voy a pasar el parcial con 5\"\n",
        "print(mi_lista)"
      ],
      "metadata": {
        "colab": {
          "base_uri": "https://localhost:8080/"
        },
        "id": "14ZBo8HcFJyQ",
        "outputId": "ca42069a-404d-4c48-880b-d8dd9112818f"
      },
      "execution_count": null,
      "outputs": [
        {
          "output_type": "stream",
          "name": "stdout",
          "text": [
            "[10, 20, 30, 1.5, 'voy a pasar el parcial con 5']\n"
          ]
        }
      ]
    },
    {
      "cell_type": "code",
      "source": [
        "# agergar elementos a la lista\n",
        "mi_lista.append(60)\n",
        "print(mi_lista)"
      ],
      "metadata": {
        "colab": {
          "base_uri": "https://localhost:8080/"
        },
        "id": "piQCZFhYFhZW",
        "outputId": "b324d7de-ae25-497a-96b7-c7fcc31b8c40"
      },
      "execution_count": null,
      "outputs": [
        {
          "output_type": "stream",
          "name": "stdout",
          "text": [
            "[10, 20, 30, 1.5, 50, 60]\n"
          ]
        }
      ]
    },
    {
      "cell_type": "code",
      "source": [
        "# agregar elementos a la lista en una posicion especifica\n",
        "mi_lista.insert(1,15)\n",
        "print(mi_lista)"
      ],
      "metadata": {
        "colab": {
          "base_uri": "https://localhost:8080/"
        },
        "id": "QVrQhlGoG44b",
        "outputId": "53cff3c7-21ae-49d7-bec2-d24dfcd78954"
      },
      "execution_count": null,
      "outputs": [
        {
          "output_type": "stream",
          "name": "stdout",
          "text": [
            "[10, 15, 15, 20, 30, 1.5, 50, 60]\n"
          ]
        }
      ]
    },
    {
      "cell_type": "code",
      "source": [
        "# eliminar elelemnto de una lista\n",
        "del mi_lista[2]\n",
        "print(mi_lista)"
      ],
      "metadata": {
        "colab": {
          "base_uri": "https://localhost:8080/"
        },
        "id": "KW71pOh9HLJ5",
        "outputId": "ff4867d6-99b4-4bac-decb-4bae2c10aa54"
      },
      "execution_count": null,
      "outputs": [
        {
          "output_type": "stream",
          "name": "stdout",
          "text": [
            "[10, 15, 20, 30, 1.5, 50, 60]\n"
          ]
        }
      ]
    },
    {
      "cell_type": "code",
      "source": [],
      "metadata": {
        "id": "jCGpzl4kKAX4"
      },
      "execution_count": null,
      "outputs": []
    },
    {
      "cell_type": "code",
      "source": [
        "#diseñe un programa de actualizacion de datos que le permita al usuario actualizar su nombre siempre y cuando exista.\n",
        "mi_lista1=[\"isabel\",\"vincent\",\"manuel\",\"jhon\"]\n",
        "\n",
        "#mensaje de bienvenida\n",
        "print(\"--------PROGRAMA ACTUALIZACION DE DATOS-------\")\n",
        "\n",
        "#preguntar al usuario que nombre quiere buscar\n",
        "nombre_buscar=input(\"ingrese nombre a buscar: \")\n",
        "\n",
        "#definicion de la condicional\n",
        "#si el nombre del usuario existe en la lista\n",
        "if nombre_buscar in mi_lista1:\n",
        "\n",
        "  #encuentra la posisocion o el indice del nombre que ingreso el usuario dentro de la lista\n",
        "  pos=mi_lista1.index(nombre_buscar)\n",
        "\n",
        "  #actualizo la posicion dentro de la lista con el nombre que me indique el usuario\n",
        "  mi_lista1[pos]=input(\"ingrese nuevo nombre: \")\n",
        "\n",
        "  #imprimo la lista actualizada\n",
        "  print(mi_lista1)\n",
        "else:\n",
        "\n",
        "  #en caso que el nombre que ingreso el usuario no exista le muestro el siguiente mensaje\n",
        "  print(\"su nombre no esta en la lista, agreguelo\")\n",
        "  nombre_nuevo=mi_lista1.append(input(\"ingrese nuevo nombre: \"))\n",
        "\n",
        "  # la f permite ocuar variables y valores streem dentro de un print\n",
        "  print(f\"felicidades, su nombre a sido agregado exitosamente:{nombre_nuevo} \")"
      ],
      "metadata": {
        "colab": {
          "base_uri": "https://localhost:8080/"
        },
        "id": "AqCl9k0QHzo2",
        "outputId": "ae3040a1-d9e6-4cdd-e8e2-b8eaabe13bd8"
      },
      "execution_count": null,
      "outputs": [
        {
          "output_type": "stream",
          "name": "stdout",
          "text": [
            "--------PROGRAMA ACTUALIZACION DE DATOS-------\n",
            "ingrese nombre a buscar: David\n",
            "su nombre no esta en la lista, agreguelo\n",
            "ingrese nuevo nombre: David\n",
            "felicidades, su nombre a sido agregado exitosamente:None \n"
          ]
        }
      ]
    }
  ]
}